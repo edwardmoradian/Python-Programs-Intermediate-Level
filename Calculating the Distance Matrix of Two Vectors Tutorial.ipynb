{
 "cells": [
  {
   "cell_type": "markdown",
   "metadata": {},
   "source": [
    "Author: Edward Moradian<br>\n",
    "Date: 09/14/2018<br>"
   ]
  },
  {
   "cell_type": "markdown",
   "metadata": {},
   "source": [
    "### This tutorial illustrates three different ways to calculate a distance matrix.\n",
    "\n",
    "**Problem.** Let A and B be matrices that their columns represent entries/coordinates/features of samples all having the same dimensionality and each row represents a vector/sample. You can use numpy random method to create such matrices."
   ]
  },
  {
   "cell_type": "code",
   "execution_count": 482,
   "metadata": {},
   "outputs": [],
   "source": [
    "np.random.seed(seed=1)\n",
    "\n",
    "A = np.random.randn(1000,50)\n",
    "B = np.random.randn(5000,50)"
   ]
  },
  {
   "cell_type": "code",
   "execution_count": 480,
   "metadata": {},
   "outputs": [],
   "source": [
    "# Test data\n",
    "import numpy as np\n",
    "\n",
    "A = np.array([[0,0],[4,4]])\n",
    "B = np.array([[1,1],[0,0],[1,1],[2,2]])"
   ]
  },
  {
   "cell_type": "markdown",
   "metadata": {},
   "source": [
    "**Part 1.** Use for loops to find the pairwise distance of each vector in A from each vector in B."
   ]
  },
  {
   "cell_type": "code",
   "execution_count": 483,
   "metadata": {},
   "outputs": [],
   "source": [
    "import numpy as np\n",
    "\n",
    "def loop_dist(A,B):\n",
    "    \n",
    "    n = len(A)    # n is the number of rows in A\n",
    "    m = len(B)    # m is the number of rows in B\n",
    "    l = len(A[0]) # l is the number of columns in A which is the same as B\n",
    "    vector_distance_2 = np.zeros((n,m))    # Initialize an empty matrix of zeros in the shape of (n,m), n x m matrix\n",
    "\n",
    "    \n",
    "    for i in range(n):             \n",
    "        for j in range(m):\n",
    "            vector_distance_1 = 0\n",
    "            for k in range(l):\n",
    "                vector_distance_1 += (A[i,k]-B[j,k])**2\n",
    "            vector_distance_2[i,j] = (vector_distance_1)**(1/2)    # input the distance into the correct matrix element\n",
    "    return vector_distance_2"
   ]
  },
  {
   "cell_type": "code",
   "execution_count": 484,
   "metadata": {},
   "outputs": [
    {
     "data": {
      "text/plain": [
       "array([[11.05274066, 10.38876466, 10.16663561, ...,  9.40609189,\n",
       "         9.98343736,  9.24938432],\n",
       "       [ 9.45975945,  9.67015416,  8.02972644, ...,  8.35375709,\n",
       "         9.26134481,  9.12936845],\n",
       "       [ 9.10412115,  9.94540619, 10.33590363, ...,  9.54935886,\n",
       "         8.98421158,  8.8744184 ],\n",
       "       ...,\n",
       "       [ 8.61994485, 10.24009112, 10.36815424, ..., 10.22758393,\n",
       "         8.89727869, 10.29262723],\n",
       "       [10.56744549,  9.95653534,  9.7496924 , ..., 10.2086809 ,\n",
       "         8.89732519,  9.98095355],\n",
       "       [10.26401403,  9.53785915,  9.54423071, ...,  8.45891164,\n",
       "         9.12512204,  8.72211447]])"
      ]
     },
     "execution_count": 484,
     "metadata": {},
     "output_type": "execute_result"
    }
   ],
   "source": [
    "dist_w_loop = loop_dist(A,B)\n",
    "dist_w_loop"
   ]
  },
  {
   "cell_type": "markdown",
   "metadata": {},
   "source": [
    "**Part 2.** Use only functions provided in numpy to calculate to find the pairwise distances in a vectorized fashion. You shouldn't use any loops or any other library except numpy."
   ]
  },
  {
   "cell_type": "code",
   "execution_count": 493,
   "metadata": {},
   "outputs": [],
   "source": [
    "import numpy as np\n",
    "\n",
    "def vect_dist(A,B):\n",
    "    vector_distance = np.sum((A[:,None] - B[None, :])**2, -1)**0.5\n",
    "    return vector_distance"
   ]
  },
  {
   "cell_type": "code",
   "execution_count": 510,
   "metadata": {},
   "outputs": [
    {
     "data": {
      "text/plain": [
       "array([[11.05274066, 10.38876466, 10.16663561, ...,  9.40609189,\n",
       "         9.98343736,  9.24938432],\n",
       "       [ 9.45975945,  9.67015416,  8.02972644, ...,  8.35375709,\n",
       "         9.26134481,  9.12936845],\n",
       "       [ 9.10412115,  9.94540619, 10.33590363, ...,  9.54935886,\n",
       "         8.98421158,  8.8744184 ],\n",
       "       ...,\n",
       "       [ 8.61994485, 10.24009112, 10.36815424, ..., 10.22758393,\n",
       "         8.89727869, 10.29262723],\n",
       "       [10.56744549,  9.95653534,  9.7496924 , ..., 10.2086809 ,\n",
       "         8.89732519,  9.98095355],\n",
       "       [10.26401403,  9.53785915,  9.54423071, ...,  8.45891164,\n",
       "         9.12512204,  8.72211447]])"
      ]
     },
     "execution_count": 510,
     "metadata": {},
     "output_type": "execute_result"
    }
   ],
   "source": [
    "dist_w_vec = vect_dist(A,B)\n",
    "dist_w_vec"
   ]
  },
  {
   "cell_type": "markdown",
   "metadata": {},
   "source": [
    "**Part 3.** Compare the solutions of the two methods to make sure you get the same answer. Then compare the efficiency of the two methods using *timeit*."
   ]
  },
  {
   "cell_type": "code",
   "execution_count": 503,
   "metadata": {},
   "outputs": [
    {
     "name": "stdout",
     "output_type": "stream",
     "text": [
      "4min 14s ± 655 ms per loop (mean ± std. dev. of 7 runs, 1 loop each)\n"
     ]
    }
   ],
   "source": [
    "%timeit loop_dist(A,B)"
   ]
  },
  {
   "cell_type": "code",
   "execution_count": 504,
   "metadata": {},
   "outputs": [
    {
     "name": "stdout",
     "output_type": "stream",
     "text": [
      "1min 37s ± 18.1 s per loop (mean ± std. dev. of 7 runs, 1 loop each)\n"
     ]
    }
   ],
   "source": [
    "%timeit vect_dist(A,B)"
   ]
  },
  {
   "cell_type": "markdown",
   "metadata": {},
   "source": [
    "The vectorized distance matrix function was about 2.61856 times as fast as the looped distance matrix function."
   ]
  },
  {
   "cell_type": "code",
   "execution_count": 508,
   "metadata": {},
   "outputs": [
    {
     "data": {
      "text/plain": [
       "True"
      ]
     },
     "execution_count": 508,
     "metadata": {},
     "output_type": "execute_result"
    }
   ],
   "source": [
    "import numpy as py\n",
    "np.min(np.isclose(dist_w_vec, dist_w_loop,atol=.0001))"
   ]
  },
  {
   "cell_type": "markdown",
   "metadata": {},
   "source": [
    "The looped distance matrix and the vectorized distance matrix are equivalent."
   ]
  },
  {
   "cell_type": "markdown",
   "metadata": {},
   "source": [
    "**Part 4.** Use scikit-learn package to do the same calculation and compare the efficiency with the previous methods."
   ]
  },
  {
   "cell_type": "code",
   "execution_count": 499,
   "metadata": {},
   "outputs": [],
   "source": [
    "import sklearn\n",
    "from sklearn.metrics.pairwise import euclidean_distances\n",
    "\n",
    "def sk_dist(A,B):\n",
    "    sk_dist_formula = sklearn.metrics.pairwise.euclidean_distances(A,B)\n",
    "    return sk_dist_formula"
   ]
  },
  {
   "cell_type": "code",
   "execution_count": 500,
   "metadata": {},
   "outputs": [
    {
     "data": {
      "text/plain": [
       "array([[11.05274066, 10.38876466, 10.16663561, ...,  9.40609189,\n",
       "         9.98343736,  9.24938432],\n",
       "       [ 9.45975945,  9.67015416,  8.02972644, ...,  8.35375709,\n",
       "         9.26134481,  9.12936845],\n",
       "       [ 9.10412115,  9.94540619, 10.33590363, ...,  9.54935886,\n",
       "         8.98421158,  8.8744184 ],\n",
       "       ...,\n",
       "       [ 8.61994485, 10.24009112, 10.36815424, ..., 10.22758393,\n",
       "         8.89727869, 10.29262723],\n",
       "       [10.56744549,  9.95653534,  9.7496924 , ..., 10.2086809 ,\n",
       "         8.89732519,  9.98095355],\n",
       "       [10.26401403,  9.53785915,  9.54423071, ...,  8.45891164,\n",
       "         9.12512204,  8.72211447]])"
      ]
     },
     "execution_count": 500,
     "metadata": {},
     "output_type": "execute_result"
    }
   ],
   "source": [
    "dist_w_sk = sk_dist(A,B)\n",
    "dist_w_sk"
   ]
  },
  {
   "cell_type": "code",
   "execution_count": 511,
   "metadata": {},
   "outputs": [
    {
     "data": {
      "text/plain": [
       "True"
      ]
     },
     "execution_count": 511,
     "metadata": {},
     "output_type": "execute_result"
    }
   ],
   "source": [
    "# check if the answers are the same\n",
    "np.min(np.isclose(dist_w_vec, dist_w_sk,atol=.0001))\n",
    "np.min(np.isclose(dist_w_loop, dist_w_sk,atol=.0001))"
   ]
  },
  {
   "cell_type": "markdown",
   "metadata": {},
   "source": [
    "All of the distance matrices are the same among the different functions."
   ]
  },
  {
   "cell_type": "code",
   "execution_count": 506,
   "metadata": {},
   "outputs": [
    {
     "name": "stdout",
     "output_type": "stream",
     "text": [
      "79.1 ms ± 2.79 ms per loop (mean ± std. dev. of 7 runs, 10 loops each)\n"
     ]
    }
   ],
   "source": [
    "%timeit sk_dist(A,B)"
   ]
  },
  {
   "cell_type": "markdown",
   "metadata": {},
   "source": [
    "With scikit learn, the distance matrix function is about 3215.18 times as fast as the looped distance matrix function.  Also, the distance matrix function is about 1227.84 times as fast as the vectorized distance function."
   ]
  },
  {
   "cell_type": "markdown",
   "metadata": {
    "collapsed": true
   },
   "source": [
    "### Conclusion\n",
    "\n",
    "Using vectorization methods are orders of magnitude faster than using logical loops (witness the power of linear algebra and hardware acceleration). Vectorization also makes the code much more readable and generalizable to future applicaitons."
   ]
  },
  {
   "cell_type": "markdown",
   "metadata": {},
   "source": [
    "For linear algebra you can use a for loop, but it is not efficient.  In this exercise, the functions with loops were magnitudes times slower than the functions in vectorized fashion.  Vectorization is much more efficient.  The Numpy package allows for efficient computation.  Numpy does not want user to use for loops.  "
   ]
  }
 ],
 "metadata": {
  "kernelspec": {
   "display_name": "Python 3",
   "language": "python",
   "name": "python3"
  },
  "language_info": {
   "codemirror_mode": {
    "name": "ipython",
    "version": 3
   },
   "file_extension": ".py",
   "mimetype": "text/x-python",
   "name": "python",
   "nbconvert_exporter": "python",
   "pygments_lexer": "ipython3",
   "version": "3.6.5"
  },
  "varInspector": {
   "cols": {
    "lenName": 16,
    "lenType": 16,
    "lenVar": 40
   },
   "kernels_config": {
    "python": {
     "delete_cmd_postfix": "",
     "delete_cmd_prefix": "del ",
     "library": "var_list.py",
     "varRefreshCmd": "print(var_dic_list())"
    },
    "r": {
     "delete_cmd_postfix": ") ",
     "delete_cmd_prefix": "rm(",
     "library": "var_list.r",
     "varRefreshCmd": "cat(var_dic_list()) "
    }
   },
   "types_to_exclude": [
    "module",
    "function",
    "builtin_function_or_method",
    "instance",
    "_Feature"
   ],
   "window_display": false
  }
 },
 "nbformat": 4,
 "nbformat_minor": 2
}
